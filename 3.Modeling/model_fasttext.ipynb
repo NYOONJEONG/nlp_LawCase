{
 "cells": [
  {
   "cell_type": "code",
   "execution_count": 9,
   "metadata": {},
   "outputs": [],
   "source": [
    "import pandas as pd\n",
    "import numpy as np\n",
    "import pickle as pk\n",
    "import re\n",
    "import warnings\n",
    "\n",
    "from gensim.models import FastText\n",
    "from sentence_transformers import SentenceTransformer\n",
    "from sqlalchemy import create_engine\n",
    "from nltk import sent_tokenize\n",
    "from sklearn.metrics.pairwise import cosine_similarity"
   ]
  },
  {
   "cell_type": "code",
   "execution_count": null,
   "metadata": {},
   "outputs": [],
   "source": [
    "import os\n",
    "PATH = '/Users/yoonjeong/Desktop/Lab_project/'\n",
    "os.chdir(PATH)"
   ]
  },
  {
   "cell_type": "code",
   "execution_count": 3,
   "metadata": {},
   "outputs": [],
   "source": [
    "fasttext = FastText.load('3.Modeling/fasttext2.model')"
   ]
  },
  {
   "cell_type": "code",
   "execution_count": 4,
   "metadata": {},
   "outputs": [],
   "source": [
    "with open(\"3.Modeling/fasttext2_embedding.pickle\", 'rb') as fr:\n",
    "    fasttext_embedding = pk.load(fr)"
   ]
  },
  {
   "cell_type": "code",
   "execution_count": 5,
   "metadata": {},
   "outputs": [],
   "source": [
    "user_input = \"甲은 乙로부터 토지를 매수하기로 계약을 체결한 후 계약금 및 중도금을 지급하고 나머지 잔금을 지급하지 않은 상태에서 乙에게 형질변경 및 건축허가를 받는 데에 반드시 필요하니 부동산매도용인감증명서 및 확인서면을 甲에게 건네주면 위 용도로만 사용하겠다고 거짓말하여, 이에 속은 乙로부터 즉석에서 부동산매도용인감증명서 및 등기의무자본인확인서면을 교부받은 후 이를 이용하여 甲명의로 위 토지의 소유권이전등기를 경료하였습니다. 이 경우 甲을 사기죄로 처벌할 수 있는지요?\""
   ]
  },
  {
   "cell_type": "code",
   "execution_count": 18,
   "metadata": {},
   "outputs": [],
   "source": [
    "df = pd.read_csv(\"2.Preprocessing/fraud_prep.csv\", encoding=\"cp949\")"
   ]
  },
  {
   "cell_type": "code",
   "execution_count": 6,
   "metadata": {},
   "outputs": [],
   "source": [
    "from hanjahangul import *\n",
    "user_input_hanja = hanja_to_hangul_dueum(user_input)"
   ]
  },
  {
   "cell_type": "code",
   "execution_count": 11,
   "metadata": {},
   "outputs": [
    {
     "data": {
      "text/plain": [
       "'갑은 을로부터 토지를 매수하기로 계약을 체결한 후 계약금 및 중도금을 지급하고 나머지 잔금을 지급하지 않은 상태에서 을에게 형질변경 및 건축허가를 받는 데에 반드시 필요하니 부동산매도용인감증명서 및 확인서면을 갑에게 건네주면 위 용도로만 사용하겠다고 거짓말하여 이에 속은 을로부터 즉석에서 부동산매도용인감증명서 및 등기의무자본인확인서면을 교부받은 후 이를 이용하여 갑명의로 위 토지의 소유권이전등기를 경료하였습니다. 이 경우 갑을 사기죄로 처벌할 수 있는지요'"
      ]
     },
     "execution_count": 11,
     "metadata": {},
     "output_type": "execute_result"
    }
   ],
   "source": [
    "clean_user_input = re.sub(\"[^가-힣. ]\", '', user_input_hanja)\n",
    "clean_user_input"
   ]
  },
  {
   "cell_type": "code",
   "execution_count": 12,
   "metadata": {},
   "outputs": [
    {
     "data": {
      "text/plain": [
       "['갑은 을로부터 토지를 매수하기로 계약을 체결한 후 계약금 및 중도금을 지급하고 나머지 잔금을 지급하지 않은 상태에서 을에게 형질변경 및 건축허가를 받는 데에 반드시 필요하니 부동산매도용인감증명서 및 확인서면을 갑에게 건네주면 위 용도로만 사용하겠다고 거짓말하여 이에 속은 을로부터 즉석에서 부동산매도용인감증명서 및 등기의무자본인확인서면을 교부받은 후 이를 이용하여 갑명의로 위 토지의 소유권이전등기를 경료하였습니다.',\n",
       " '이 경우 갑을 사기죄로 처벌할 수 있는지요']"
      ]
     },
     "execution_count": 12,
     "metadata": {},
     "output_type": "execute_result"
    }
   ],
   "source": [
    "user_sentence_tokened = sent_tokenize(clean_user_input)\n",
    "user_sentence_tokened"
   ]
  },
  {
   "cell_type": "code",
   "execution_count": 13,
   "metadata": {},
   "outputs": [],
   "source": [
    "embedding = None\n",
    "count = 0\n",
    "for sentence in user_sentence_tokened:\n",
    "    if embedding is None:\n",
    "        embedding = fasttext.wv.get_sentence_vector(sentence)\n",
    "    else:\n",
    "        embedding += fasttext.wv.get_sentence_vector(sentence)\n",
    "    count += 1\n",
    "\n",
    "f_embedding = embedding / count"
   ]
  },
  {
   "cell_type": "code",
   "execution_count": 14,
   "metadata": {},
   "outputs": [],
   "source": [
    "f_similarity = cosine_similarity([f_embedding], fasttext_embedding)\n",
    "f_similarity = list(enumerate(f_similarity[0]))\n",
    "f_similarity = sorted(f_similarity, key=lambda x : x[1], reverse = True)"
   ]
  },
  {
   "cell_type": "code",
   "execution_count": 19,
   "metadata": {},
   "outputs": [],
   "source": [
    "precidents = []\n",
    "\n",
    "for i in range(5):\n",
    "    idx = f_similarity[i][0]\n",
    "    sim = round(f_similarity[i][1] * 100, 2)\n",
    "    \n",
    "    precidents.append([df['판례일련번호'][idx], df['사건명'][idx], df['사건종류명'][idx], df['판례내용'][idx], sim])"
   ]
  },
  {
   "cell_type": "code",
   "execution_count": 20,
   "metadata": {},
   "outputs": [
    {
     "data": {
      "text/html": [
       "<div>\n",
       "<style scoped>\n",
       "    .dataframe tbody tr th:only-of-type {\n",
       "        vertical-align: middle;\n",
       "    }\n",
       "\n",
       "    .dataframe tbody tr th {\n",
       "        vertical-align: top;\n",
       "    }\n",
       "\n",
       "    .dataframe thead th {\n",
       "        text-align: right;\n",
       "    }\n",
       "</style>\n",
       "<table border=\"1\" class=\"dataframe\">\n",
       "  <thead>\n",
       "    <tr style=\"text-align: right;\">\n",
       "      <th></th>\n",
       "      <th>판례일련번호</th>\n",
       "      <th>사건명</th>\n",
       "      <th>사건종류명</th>\n",
       "      <th>판례내용</th>\n",
       "      <th>유사도</th>\n",
       "    </tr>\n",
       "  </thead>\n",
       "  <tbody>\n",
       "    <tr>\n",
       "      <th>0</th>\n",
       "      <td>104187</td>\n",
       "      <td>사기</td>\n",
       "      <td>형사</td>\n",
       "      <td>【피 고 인】 【상 고 인】   피고인【원심판결】 \\n서울형사지방법원 1987.7....</td>\n",
       "      <td>95.23</td>\n",
       "    </tr>\n",
       "    <tr>\n",
       "      <th>1</th>\n",
       "      <td>86031</td>\n",
       "      <td>사기피고</td>\n",
       "      <td>형사</td>\n",
       "      <td>【상 고 인】   검사【원심판결】 \\n제1심 대구지방법원 안동지원, 제2심 대구고등...</td>\n",
       "      <td>95.22</td>\n",
       "    </tr>\n",
       "    <tr>\n",
       "      <th>2</th>\n",
       "      <td>76900</td>\n",
       "      <td>사기피고사건</td>\n",
       "      <td>형사</td>\n",
       "      <td>【피 고 인】 【주    문】  피고인은 무죄【이    유】  이 사건 공소사실은,...</td>\n",
       "      <td>95.15</td>\n",
       "    </tr>\n",
       "    <tr>\n",
       "      <th>3</th>\n",
       "      <td>98769</td>\n",
       "      <td>사기</td>\n",
       "      <td>형사</td>\n",
       "      <td>【피 고 인】 【상 고 인】   피고인【원심판결】 \\n서울형사지방법원 1983.10...</td>\n",
       "      <td>95.11</td>\n",
       "    </tr>\n",
       "    <tr>\n",
       "      <th>4</th>\n",
       "      <td>100360</td>\n",
       "      <td>사기</td>\n",
       "      <td>형사</td>\n",
       "      <td>【피 고 인】 【상 고 인】   검사【원심판결】 서울형사지방법원 1984.12.5....</td>\n",
       "      <td>95.07</td>\n",
       "    </tr>\n",
       "  </tbody>\n",
       "</table>\n",
       "</div>"
      ],
      "text/plain": [
       "   판례일련번호     사건명 사건종류명                                               판례내용  \\\n",
       "0  104187      사기    형사  【피 고 인】 【상 고 인】   피고인【원심판결】 \\n서울형사지방법원 1987.7....   \n",
       "1   86031    사기피고    형사  【상 고 인】   검사【원심판결】 \\n제1심 대구지방법원 안동지원, 제2심 대구고등...   \n",
       "2   76900  사기피고사건    형사  【피 고 인】 【주    문】  피고인은 무죄【이    유】  이 사건 공소사실은,...   \n",
       "3   98769      사기    형사  【피 고 인】 【상 고 인】   피고인【원심판결】 \\n서울형사지방법원 1983.10...   \n",
       "4  100360      사기    형사  【피 고 인】 【상 고 인】   검사【원심판결】 서울형사지방법원 1984.12.5....   \n",
       "\n",
       "     유사도  \n",
       "0  95.23  \n",
       "1  95.22  \n",
       "2  95.15  \n",
       "3  95.11  \n",
       "4  95.07  "
      ]
     },
     "execution_count": 20,
     "metadata": {},
     "output_type": "execute_result"
    }
   ],
   "source": [
    "f_result = pd.DataFrame(precidents, columns=['판례일련번호', '사건명', '사건종류명', '판례내용', '유사도'])\n",
    "f_result"
   ]
  },
  {
   "cell_type": "code",
   "execution_count": 25,
   "metadata": {},
   "outputs": [
    {
     "data": {
      "text/plain": [
       "'【피 고 인】 【상 고 인】   피고인【원심판결】 \\n서울형사지방법원 1987.7.18 선고, 87노2462 판결【주    문】  원심판결을 파기하고 사건을 서울형사지방법원 합의부에 환송한다.【이    유】  피고인의 상고이유에 대하여,  원심이 유지한 제1심판결의 범죄사실에 의하면, 피고인은 주식회사 통일의 영업관리과 채권담당자인데 위 회사에서 피해자 윤금만에게 할부로 매각한 선반기계 1대에 대한 할부금을 피해자가 제대로 불입치 아니하여 동인을 상대로 기계인도소송을 제기, 승소판결을 받아 1986.7.3 그 인도집행까지 마쳤으나 피해자가 피고인에게 금 120만원을 보관시키면서 회사간부를 설득하여 위 금원만으로 기계를 타에 처분환가치 말고 반환하여 줄 것을 수차 요구하여옴을 기화로 그해 7.5 위 금원만으로 동인에게 기계를 반환하여 줄 의사나 능력이 없음에도 불구하고 위 금원을 회사에 입금 처리하여 기계할부잔대금 일부라도 일단 회수하고 보자는 생각에서 위 기계를 반환하여 주겠으니 금 120만원을 회사에 입금시키라고 말하여 이에 속은 피해자로 부터 즉석에서 동의를 얻어 그 시경 피고인이 받아 보관중이던 위의 금원을 위 회사에 입금, 위 회사로 하여금 위 금액을 교부받게 하여 이를 편취한 것이라는 것이다.  그리고 위의 범죄사실을 인정한 증거로서 피고인과 증인 윤금만의 공판정 진술, 피고인과 윤금만에 대한 검사의 피의자신문조서 및 진술조서를 들고있다.  위의 증거를 종합하여 볼 때 주식회사 통일이 피해자에게 1985.12.27 선반기계 1대를 금 5,572,600원에 판매함에 있어 당일 금 120만원을 계약금으로 받고 기계를 인도하고 나머지 대금에 대하여서는 1986.1월부터 6개월에 걸쳐 분할상환하기로 약정하였는데 피해자가 그 지급을 하지 아니하기 때문에 소송을 거쳐 그해 7.3 인도집행까지 마쳤던 바, 피해자가 위 회사의 채권관계 실무자인 피고인에게 금 120만원을 제공하면서 기계를 처분하지 말고 이를 피해자에게 돌려주어 사업을 운영하게끔 해달라는 간청을 한 사실을 알 수 있고 피해자의 진술을 보더라도 그무렵 금 870만원 상당의 급한 납품주문을 받았기 때문에 물건을 생산하면 그 납품대금을 받아 기계잔대금을 지급할 수 있었고 그 사정을 피고인에게 이야기하였다는 것이며 피해자의 처지로서는 이미 1회의 할부금을 포함한 금 170만원을 지급한 상태에서 기계를 6개월밖에 사용하지 못하고 회수당하였으므로 회사가 처분하기 전에 그 기계를 찾는 것이 매우 다급하여 초조한 처지에 놓여 있었고 한편으로 회사로서는 합법적인 절차를 거쳐 기계를 반환받아 채권을 확보한 상태이기 때문에 아쉬울 것이 없는 처지였음을 알 수 있다.  그리하여 피해자가 피고인에게 그의 딱한 사정을 호소하면서 우선 금 120만원을 받고 기계를 반환받을 수 있도록 해달라는 간청을 하게 되고 피고인이 그러한 사정을 이해하고 상사에게 여러모로 진언을 하면서 해결책을 모색한 사정은 제1심판결의 적시증거 외에도 제1심증인 양인수, 원심증인 박상철의 각 진술에 의하여 뚜렷하다.  이러한 마당에 피해자는 검찰에서 피고인이 잘못했다고 생각되는 점이 무엇이냐고 질문한데 대하여 자기회사의 채권확보를 위해 일단은 저에게 마치 기계를 출고하여 줄 것처럼 120만원을 입금시키게 하고서는 기계를 내주지 않았던 점과 7.14 오전 10시쯤 회사의 영업관리차장 양인수와 피고인이 저의 공장을 찾아와 공장 사정이 어려울 것으로 판단하였는지는 몰라도 당장 7.15 오전까지 기계대금 잔금을 완납하지 않으면 기계를 찾아갈 생각을 하지 말라고 하였으며 법대로 일을 처리하겠다는 그들의 폭리행위를 보고만 있을 수 없어 고소를 하게 되었다고 진술하고 있다.어떤 행위가 타인을 착오에 빠지게 한 기망행위에 해당하는가의 여부는 거래의 상황, 상대방의 지식, 성격, 경험, 직업 등 행위당시의 구체적 사정을 고려하여 일반적·객관적으로 결정하지 않으면 안된다.  앞에서 본 바와 같은 이 사건 경위에 비추어 피해자가 그가 소망하는대로 기계를 돌려받지 못하였다고 해서 피고인이 기망한 결과라고 단정한 것도 성급하거니와 피고인이 피해자로부터 기계대금채권의 일부를 받아 회사에 납입한 과정은 아무리 검토해 보아도 피해자를 기망하여 재물을 편취하고자 의도한 것이라고 보기가 어렵다.  원심이 피고인의 행위에 대하여 \\n        형법 제347조 제1항의 기망행위에 해당한다고 하여 사기죄의 성립을 인정한 것은 증거판단을 그르쳐 사실을 오인하고 법령의 해석적용을 잘못한 위법을 저질렀다고 아니할 수 없다. 논지는 이유있다.\\n        이에 원심판결을 파기하고, 사건을 원심법원에 환송하기로 하여 관여 법관의 일치된 의견으로 주문과 같이 판결한다.대법관 윤관(재판장) 김형기 박우동 '"
      ]
     },
     "execution_count": 25,
     "metadata": {},
     "output_type": "execute_result"
    }
   ],
   "source": [
    "f_result.판례내용[0]"
   ]
  },
  {
   "cell_type": "code",
   "execution_count": null,
   "metadata": {},
   "outputs": [],
   "source": []
  }
 ],
 "metadata": {
  "kernelspec": {
   "display_name": "law",
   "language": "python",
   "name": "python3"
  },
  "language_info": {
   "codemirror_mode": {
    "name": "ipython",
    "version": 3
   },
   "file_extension": ".py",
   "mimetype": "text/x-python",
   "name": "python",
   "nbconvert_exporter": "python",
   "pygments_lexer": "ipython3",
   "version": "3.8.18"
  }
 },
 "nbformat": 4,
 "nbformat_minor": 2
}
